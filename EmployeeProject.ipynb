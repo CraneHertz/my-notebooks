{
 "cells": [
  {
   "cell_type": "markdown",
   "source": [
    "# Project - Week 4\n",
    "## Work Plan\n",
    "### 1. Systematic Study and Practice of Machine Learning\n",
    "\n",
    "### 2. Application to Thesis: Further Dataset Optimization\n",
    "\n",
    "### 3. Data Cleaning and Feature Engineering\n",
    "\n",
    "### 4. Organization and Documentation with Graphics and Annotations\n"
   ],
   "metadata": {
    "collapsed": false
   },
   "id": "bcf062ca5e9af550"
  },
  {
   "cell_type": "code",
   "execution_count": 79,
   "outputs": [],
   "source": [
    "import pandas as pd\n",
    "df = pd.read_excel(\"Data_4.xlsx\")\n",
    "selected_columns = ['EmpNumber', 'Age', 'Gender','EducationBackground', 'MaritalStatus', 'EmpDepartment' , 'BusinessTravelFrequency', 'EmpEducationLevel', 'EmpEnvironmentSatisfaction', 'EmpHourlyRate', 'EmpJobInvolvement',  'EmpJobLevel', 'EmpJobSatisfaction', 'OverTime', 'EmpRelationshipSatisfaction','EmpWorkLifeBalance','Attrition']\n",
    "df_selected = df[selected_columns]\n",
    "df_selected.to_excel('processed_data.xlsx', index=False)"
   ],
   "metadata": {
    "collapsed": false,
    "ExecuteTime": {
     "end_time": "2023-12-09T06:36:48.214753300Z",
     "start_time": "2023-12-09T06:36:47.929630400Z"
    }
   },
   "id": "44277ccb30ab0386"
  },
  {
   "cell_type": "markdown",
   "source": [
    "### Perform column extraction on the dataset."
   ],
   "metadata": {
    "collapsed": false
   },
   "id": "c0f7256d2fbc5cbc"
  },
  {
   "cell_type": "code",
   "execution_count": 80,
   "outputs": [
    {
     "name": "stdout",
     "output_type": "stream",
     "text": [
      "EmpNumber                      0\n",
      "Age                            0\n",
      "Gender                         0\n",
      "EducationBackground            0\n",
      "MaritalStatus                  0\n",
      "EmpDepartment                  0\n",
      "BusinessTravelFrequency        0\n",
      "EmpEducationLevel              0\n",
      "EmpEnvironmentSatisfaction     0\n",
      "EmpHourlyRate                  0\n",
      "EmpJobInvolvement              0\n",
      "EmpJobLevel                    0\n",
      "EmpJobSatisfaction             0\n",
      "OverTime                       0\n",
      "EmpRelationshipSatisfaction    0\n",
      "EmpWorkLifeBalance             0\n",
      "Attrition                      0\n",
      "dtype: int64\n"
     ]
    }
   ],
   "source": [
    "missing_values = df_selected.isnull().sum()\n",
    "print(missing_values)"
   ],
   "metadata": {
    "collapsed": false,
    "ExecuteTime": {
     "end_time": "2023-12-09T06:36:48.223905Z",
     "start_time": "2023-12-09T06:36:48.214753300Z"
    }
   },
   "id": "6a3b0c20a2a47b42"
  },
  {
   "cell_type": "markdown",
   "source": [
    "### Check for missing values in each column."
   ],
   "metadata": {
    "collapsed": false
   },
   "id": "2cfe73f914f87b0f"
  },
  {
   "cell_type": "code",
   "execution_count": 81,
   "outputs": [
    {
     "name": "stdout",
     "output_type": "stream",
     "text": [
      "Anomalies in column 'EmpEducationLevel':\n",
      "     EmpNumber  Age  Gender EducationBackground MaritalStatus  \\\n",
      "12    E1001025   30    Male           Marketing      Divorced   \n",
      "24    E1001053   34  Female       Life Sciences      Divorced   \n",
      "140   E1001263   39    Male       Life Sciences        Single   \n",
      "198   E1001351   36  Female             Medical        Single   \n",
      "209   E1001372   27    Male       Life Sciences       Married   \n",
      "284   E1001509   42    Male             Medical       Married   \n",
      "290   E1001520   42  Female             Medical       Married   \n",
      "392   E1001708   31  Female       Life Sciences        Single   \n",
      "403   E1001726   41    Male             Medical       Married   \n",
      "407   E1001737   31  Female       Life Sciences        Single   \n",
      "421   E1001759   44  Female           Marketing       Married   \n",
      "441   E1001793   33    Male       Life Sciences        Single   \n",
      "450   E1001817   50    Male             Medical        Single   \n",
      "471   E1001850   53  Female    Technical Degree       Married   \n",
      "475   E1001856   55    Male           Marketing       Married   \n",
      "490   E1001884   50    Male             Medical       Married   \n",
      "494   E1001889   45  Female             Medical        Single   \n",
      "501   E1001899   35    Male       Life Sciences       Married   \n",
      "513   E1001920   44    Male     Human Resources       Married   \n",
      "521   E1001934   50  Female       Life Sciences      Divorced   \n",
      "528   E1001943   54  Female             Medical       Married   \n",
      "566   E1002011   36    Male           Marketing      Divorced   \n",
      "625   E1002120   31    Male     Human Resources       Married   \n",
      "676   E1002213   56  Female           Marketing       Married   \n",
      "806    E100346   44  Female           Marketing      Divorced   \n",
      "810    E100352   35    Male       Life Sciences       Married   \n",
      "815    E100357   38  Female       Life Sciences        Single   \n",
      "881    E100471   38  Female    Technical Degree        Single   \n",
      "886    E100482   35    Male           Marketing       Married   \n",
      "902    E100509   32    Male       Life Sciences        Single   \n",
      "939    E100565   40    Male       Life Sciences       Married   \n",
      "1039   E100725   47    Male       Life Sciences       Married   \n",
      "1054   E100746   42  Female       Life Sciences        Single   \n",
      "1060   E100757   36  Female             Medical        Single   \n",
      "1092   E100807   37  Female             Medical       Married   \n",
      "1113   E100843   29  Female    Technical Degree       Married   \n",
      "1134   E100873   48  Female           Marketing       Married   \n",
      "1135   E100875   55  Female       Life Sciences        Single   \n",
      "1142   E100890   33  Female             Medical      Divorced   \n",
      "1152   E100903   41  Female       Life Sciences       Married   \n",
      "1171   E100941   43    Male             Medical      Divorced   \n",
      "1181   E100961   34    Male       Life Sciences       Married   \n",
      "\n",
      "               EmpDepartment BusinessTravelFrequency  EmpEducationLevel  \\\n",
      "12                     Sales           Travel_Rarely                  5   \n",
      "24               Development           Travel_Rarely                  5   \n",
      "140                    Sales           Travel_Rarely                  5   \n",
      "198   Research & Development           Travel_Rarely                  5   \n",
      "209   Research & Development              Non-Travel                  5   \n",
      "284          Human Resources              Non-Travel                  5   \n",
      "290   Research & Development       Travel_Frequently                  5   \n",
      "392   Research & Development           Travel_Rarely                  5   \n",
      "403   Research & Development           Travel_Rarely                  5   \n",
      "407   Research & Development       Travel_Frequently                  5   \n",
      "421                    Sales       Travel_Frequently                  5   \n",
      "441   Research & Development           Travel_Rarely                  5   \n",
      "450   Research & Development       Travel_Frequently                  5   \n",
      "471   Research & Development           Travel_Rarely                  5   \n",
      "475                    Sales           Travel_Rarely                  5   \n",
      "490                  Finance       Travel_Frequently                  5   \n",
      "494                  Finance           Travel_Rarely                  5   \n",
      "501                  Finance           Travel_Rarely                  5   \n",
      "513          Human Resources       Travel_Frequently                  5   \n",
      "521                  Finance           Travel_Rarely                  5   \n",
      "528                  Finance           Travel_Rarely                  5   \n",
      "566                    Sales           Travel_Rarely                  5   \n",
      "625          Human Resources           Travel_Rarely                  5   \n",
      "676                    Sales           Travel_Rarely                  5   \n",
      "806                    Sales           Travel_Rarely                  5   \n",
      "810                    Sales       Travel_Frequently                  5   \n",
      "815              Development       Travel_Frequently                  5   \n",
      "881              Development           Travel_Rarely                  5   \n",
      "886                    Sales           Travel_Rarely                  5   \n",
      "902              Development           Travel_Rarely                  5   \n",
      "939              Development              Non-Travel                  5   \n",
      "1039            Data Science           Travel_Rarely                  5   \n",
      "1054             Development           Travel_Rarely                  5   \n",
      "1060                   Sales              Non-Travel                  5   \n",
      "1092             Development              Non-Travel                  5   \n",
      "1113             Development           Travel_Rarely                  5   \n",
      "1134                   Sales           Travel_Rarely                  5   \n",
      "1135                   Sales           Travel_Rarely                  5   \n",
      "1142             Development           Travel_Rarely                  5   \n",
      "1152                   Sales           Travel_Rarely                  5   \n",
      "1171             Development       Travel_Frequently                  5   \n",
      "1181             Development           Travel_Rarely                  5   \n",
      "\n",
      "      EmpEnvironmentSatisfaction  EmpHourlyRate  EmpJobInvolvement  \\\n",
      "12                             3              4                  3   \n",
      "24                             2              2                  3   \n",
      "140                            1              2                  4   \n",
      "198                            4              3                  2   \n",
      "209                            1              4                  1   \n",
      "284                            4              4                  4   \n",
      "290                            1              3                  3   \n",
      "392                            1              4                  3   \n",
      "403                            2              4                  4   \n",
      "407                            3              4                  4   \n",
      "421                            1              4                  3   \n",
      "441                            4              3                  3   \n",
      "450                            3              4                  1   \n",
      "471                            3              4                  2   \n",
      "475                            3              3                  2   \n",
      "490                            2              2                  3   \n",
      "494                            3              2                  1   \n",
      "501                            2              2                  4   \n",
      "513                            1              2                  3   \n",
      "521                            4              2                  2   \n",
      "528                            2              4                  3   \n",
      "566                            2              4                  2   \n",
      "625                            4              4                  4   \n",
      "676                            4              4                  2   \n",
      "806                            2              3                  3   \n",
      "810                            2              3                  3   \n",
      "815                            4              2                  3   \n",
      "881                            4              2                  3   \n",
      "886                            3              4                  3   \n",
      "902                            3              2                  3   \n",
      "939                            4              3                  2   \n",
      "1039                           4              2                  3   \n",
      "1054                           1              2                  3   \n",
      "1060                           4              2                  3   \n",
      "1092                           2              3                  3   \n",
      "1113                           3              3                  2   \n",
      "1134                           2              2                  3   \n",
      "1135                           1              4                  3   \n",
      "1142                           1              4                  4   \n",
      "1152                           2              4                  3   \n",
      "1171                           4              3                  3   \n",
      "1181                           2              2                  3   \n",
      "\n",
      "      EmpJobLevel  EmpJobSatisfaction  OverTime  EmpRelationshipSatisfaction  \\\n",
      "12              2                   4         1                            4   \n",
      "24              2                   1         1                            3   \n",
      "140             3                   3         1                            4   \n",
      "198             3                   4         1                            2   \n",
      "209             1                   3         1                            4   \n",
      "284             2                   1         1                            1   \n",
      "290             3                   1         4                            3   \n",
      "392             4                   2         1                            3   \n",
      "403             1                   3         4                            1   \n",
      "407             3                   2         1                            1   \n",
      "421             2                   3         1                            3   \n",
      "441             2                   3         4                            1   \n",
      "450             4                   4         4                            4   \n",
      "471             3                   4         1                            2   \n",
      "475             5                   4         1                            3   \n",
      "490             4                   3         4                            3   \n",
      "494             2                   1         4                            1   \n",
      "501             2                   1         1                            4   \n",
      "513             2                   4         4                            3   \n",
      "521             3                   1         1                            3   \n",
      "528             4                   3         1                            3   \n",
      "566             2                   1         4                            2   \n",
      "625             1                   1         1                            3   \n",
      "676             2                   1         1                            3   \n",
      "806             2                   1         4                            3   \n",
      "810             3                   1         1                            4   \n",
      "815             2                   4         1                            4   \n",
      "881             2                   3         4                            2   \n",
      "886             3                   2         1                            1   \n",
      "902             1                   3         1                            1   \n",
      "939             2                   4         1                            4   \n",
      "1039            5                   3         1                            2   \n",
      "1054            4                   4         1                            2   \n",
      "1060            2                   4         1                            2   \n",
      "1092            2                   3         4                            1   \n",
      "1113            1                   2         1                            2   \n",
      "1134            2                   4         1                            1   \n",
      "1135            4                   2         1                            4   \n",
      "1142            4                   3         1                            3   \n",
      "1152            4                   1         1                            2   \n",
      "1171            2                   3         4                            2   \n",
      "1181            1                   4         1                            4   \n",
      "\n",
      "      EmpWorkLifeBalance  Attrition  \n",
      "12                     2          1  \n",
      "24                     3          1  \n",
      "140                    3          1  \n",
      "198                    2          1  \n",
      "209                    3          1  \n",
      "284                    4          1  \n",
      "290                    3          1  \n",
      "392                    4          1  \n",
      "403                    2          1  \n",
      "407                    3          4  \n",
      "421                    2          1  \n",
      "441                    3          1  \n",
      "450                    3          1  \n",
      "471                    3          4  \n",
      "475                    3          1  \n",
      "490                    3          1  \n",
      "494                    3          1  \n",
      "501                    3          1  \n",
      "513                    3          1  \n",
      "521                    3          1  \n",
      "528                    3          1  \n",
      "566                    3          4  \n",
      "625                    3          4  \n",
      "676                    3          1  \n",
      "806                    2          1  \n",
      "810                    2          1  \n",
      "815                    3          1  \n",
      "881                    3          1  \n",
      "886                    3          1  \n",
      "902                    3          1  \n",
      "939                    1          1  \n",
      "1039                   3          1  \n",
      "1054                   3          1  \n",
      "1060                   3          1  \n",
      "1092                   3          1  \n",
      "1113                   4          4  \n",
      "1134                   3          1  \n",
      "1135                   3          1  \n",
      "1142                   3          1  \n",
      "1152                   3          1  \n",
      "1171                   3          1  \n",
      "1181                   2          1  \n",
      "Anomalies in column 'EmpJobLevel':\n",
      "     EmpNumber  Age  Gender EducationBackground MaritalStatus  \\\n",
      "3     E1001009   41    Male     Human Resources      Divorced   \n",
      "151   E1001277   41    Male             Medical      Divorced   \n",
      "171   E1001307   42    Male           Marketing       Married   \n",
      "175   E1001313   41  Female       Life Sciences      Divorced   \n",
      "178   E1001316   52  Female           Marketing       Married   \n",
      "192   E1001339   50    Male             Medical       Married   \n",
      "230   E1001406   40    Male             Medical        Single   \n",
      "264   E1001469   56  Female    Technical Degree      Divorced   \n",
      "270   E1001479   53  Female             Medical      Divorced   \n",
      "278   E1001495   46    Male       Life Sciences       Married   \n",
      "297   E1001533   43    Male       Life Sciences       Married   \n",
      "298   E1001534   49    Male             Medical       Married   \n",
      "302   E1001541   48    Male       Life Sciences        Single   \n",
      "304   E1001545   44    Male           Marketing       Married   \n",
      "307   E1001555   45  Female           Marketing        Single   \n",
      "310   E1001558   46  Female           Marketing       Married   \n",
      "312   E1001560   51    Male       Life Sciences      Divorced   \n",
      "316   E1001566   44    Male       Life Sciences      Divorced   \n",
      "329   E1001584   45  Female             Medical        Single   \n",
      "341   E1001614   55  Female             Medical       Married   \n",
      "342   E1001616   56    Male       Life Sciences        Single   \n",
      "388   E1001701   58  Female             Medical       Married   \n",
      "475   E1001856   55    Male           Marketing       Married   \n",
      "483   E1001869   50    Male           Marketing       Married   \n",
      "492   E1001886   44  Female             Medical      Divorced   \n",
      "505   E1001903   47  Female       Life Sciences       Married   \n",
      "571   E1002018   40    Male             Medical        Single   \n",
      "589   E1002048   55    Male             Medical       Married   \n",
      "600   E1002067   46    Male             Medical      Divorced   \n",
      "642   E1002145   48    Male       Life Sciences       Married   \n",
      "681   E1002219   49    Male       Life Sciences       Married   \n",
      "703   E1002251   55    Male     Human Resources       Married   \n",
      "782    E100310   53  Female               Other      Divorced   \n",
      "786    E100316   46  Female           Marketing        Single   \n",
      "816    E100358   50  Female             Medical      Divorced   \n",
      "851    E100419   50  Female       Life Sciences       Married   \n",
      "864    E100440   51    Male       Life Sciences        Single   \n",
      "898    E100504   50  Female       Life Sciences        Single   \n",
      "918    E100531   40  Female             Medical       Married   \n",
      "921    E100537   52    Male       Life Sciences       Married   \n",
      "956    E100597   42    Male    Technical Degree       Married   \n",
      "958    E100601   50  Female             Medical      Divorced   \n",
      "962    E100607   52    Male       Life Sciences        Single   \n",
      "978    E100630   40    Male             Medical      Divorced   \n",
      "989    E100652   55    Male             Medical        Single   \n",
      "997    E100663   50    Male       Life Sciences      Divorced   \n",
      "1006   E100674   49  Female       Life Sciences        Single   \n",
      "1036   E100722   39    Male             Medical       Married   \n",
      "1039   E100725   47    Male       Life Sciences       Married   \n",
      "1088   E100800   54    Male             Medical       Married   \n",
      "1094   E100809   39    Male       Life Sciences      Divorced   \n",
      "1104   E100827   60  Female       Life Sciences       Married   \n",
      "1109   E100836   40  Female       Life Sciences       Married   \n",
      "1156   E100916   49    Male       Life Sciences      Divorced   \n",
      "1160   E100922   50    Male             Medical       Married   \n",
      "1177   E100949   44    Male               Other       Married   \n",
      "\n",
      "               EmpDepartment BusinessTravelFrequency  EmpEducationLevel  \\\n",
      "3            Human Resources           Travel_Rarely                  4   \n",
      "151              Development       Travel_Frequently                  3   \n",
      "171                    Sales           Travel_Rarely                  2   \n",
      "175   Research & Development              Non-Travel                  1   \n",
      "178                    Sales           Travel_Rarely                  1   \n",
      "192   Research & Development           Travel_Rarely                  4   \n",
      "230   Research & Development           Travel_Rarely                  3   \n",
      "264   Research & Development           Travel_Rarely                  4   \n",
      "270   Research & Development           Travel_Rarely                  2   \n",
      "278   Research & Development           Travel_Rarely                  2   \n",
      "297   Research & Development           Travel_Rarely                  3   \n",
      "298   Research & Development           Travel_Rarely                  2   \n",
      "302   Research & Development           Travel_Rarely                  3   \n",
      "304                    Sales           Travel_Rarely                  3   \n",
      "307                    Sales           Travel_Rarely                  3   \n",
      "310                    Sales           Travel_Rarely                  2   \n",
      "312                    Sales       Travel_Frequently                  3   \n",
      "316   Research & Development           Travel_Rarely                  2   \n",
      "329   Research & Development       Travel_Frequently                  3   \n",
      "341   Research & Development           Travel_Rarely                  2   \n",
      "342          Human Resources           Travel_Rarely                  4   \n",
      "388   Research & Development           Travel_Rarely                  3   \n",
      "475                    Sales           Travel_Rarely                  5   \n",
      "483                    Sales           Travel_Rarely                  3   \n",
      "492                  Finance           Travel_Rarely                  3   \n",
      "505          Human Resources           Travel_Rarely                  4   \n",
      "571                    Sales           Travel_Rarely                  4   \n",
      "589   Research & Development           Travel_Rarely                  3   \n",
      "600   Research & Development           Travel_Rarely                  4   \n",
      "642   Research & Development           Travel_Rarely                  3   \n",
      "681   Research & Development       Travel_Frequently                  1   \n",
      "703          Human Resources           Travel_Rarely                  4   \n",
      "782              Development           Travel_Rarely                  3   \n",
      "786                    Sales           Travel_Rarely                  4   \n",
      "816              Development           Travel_Rarely                  2   \n",
      "851              Development       Travel_Frequently                  3   \n",
      "864              Development           Travel_Rarely                  3   \n",
      "898              Development           Travel_Rarely                  3   \n",
      "918              Development           Travel_Rarely                  1   \n",
      "921              Development           Travel_Rarely                  4   \n",
      "956              Development           Travel_Rarely                  2   \n",
      "958                    Sales           Travel_Rarely                  4   \n",
      "962                    Sales              Non-Travel                  4   \n",
      "978             Data Science           Travel_Rarely                  2   \n",
      "989              Development           Travel_Rarely                  3   \n",
      "997              Development           Travel_Rarely                  1   \n",
      "1006             Development       Travel_Frequently                  4   \n",
      "1036             Development       Travel_Frequently                  2   \n",
      "1039            Data Science           Travel_Rarely                  5   \n",
      "1088             Development           Travel_Rarely                  2   \n",
      "1094             Development       Travel_Frequently                  1   \n",
      "1104             Development           Travel_Rarely                  3   \n",
      "1109                   Sales           Travel_Rarely                  4   \n",
      "1156             Development           Travel_Rarely                  4   \n",
      "1160         Human Resources       Travel_Frequently                  3   \n",
      "1177             Development           Travel_Rarely                  4   \n",
      "\n",
      "      EmpEnvironmentSatisfaction  EmpHourlyRate  EmpJobInvolvement  \\\n",
      "3                              2              3                  2   \n",
      "151                            1              3                  3   \n",
      "171                            4              4                  3   \n",
      "175                            2              3                  1   \n",
      "178                            1              3                  1   \n",
      "192                            2              3                  3   \n",
      "230                            3              2                  2   \n",
      "264                            4              4                  3   \n",
      "270                            4              2                  3   \n",
      "278                            4              3                  3   \n",
      "297                            3              4                  1   \n",
      "298                            1              4                  2   \n",
      "302                            4              4                  2   \n",
      "304                            2              4                  3   \n",
      "307                            1              4                  1   \n",
      "310                            4              2                  2   \n",
      "312                            4              4                  3   \n",
      "316                            3              4                  4   \n",
      "329                            2              4                  3   \n",
      "341                            4              3                  1   \n",
      "342                            4              4                  3   \n",
      "388                            4              4                  3   \n",
      "475                            3              3                  2   \n",
      "483                            3              3                  3   \n",
      "492                            2              2                  3   \n",
      "505                            4              4                  3   \n",
      "571                            2              4                  3   \n",
      "589                            3              3                  2   \n",
      "600                            3              2                  3   \n",
      "642                            4              4                  2   \n",
      "681                            2              2                  3   \n",
      "703                            3              3                  4   \n",
      "782                            3              3                  3   \n",
      "786                            2              4                  3   \n",
      "816                            2              2                  2   \n",
      "851                            1              3                  3   \n",
      "864                            1              3                  3   \n",
      "898                            3              3                  3   \n",
      "918                            4              2                  3   \n",
      "921                            3              3                  2   \n",
      "956                            3              3                  3   \n",
      "958                            4              3                  3   \n",
      "962                            1              4                  2   \n",
      "978                            1              2                  3   \n",
      "989                            4              4                  3   \n",
      "997                            1              4                  3   \n",
      "1006                           3              2                  3   \n",
      "1036                           3              3                  2   \n",
      "1039                           4              2                  3   \n",
      "1088                           1              4                  3   \n",
      "1094                           2              3                  3   \n",
      "1104                           1              2                  3   \n",
      "1109                           3              4                  3   \n",
      "1156                           4              3                  2   \n",
      "1160                           1              4                  3   \n",
      "1177                           4              2                  3   \n",
      "\n",
      "      EmpJobLevel  EmpJobSatisfaction  OverTime  EmpRelationshipSatisfaction  \\\n",
      "3               5                   4         1                            2   \n",
      "151             5                   3         1                            2   \n",
      "171             5                   3         1                            2   \n",
      "175             5                   3         1                            2   \n",
      "178             5                   4         1                            4   \n",
      "192             5                   3         4                            4   \n",
      "230             5                   3         1                            1   \n",
      "264             5                   1         1                            4   \n",
      "270             5                   3         1                            2   \n",
      "278             5                   2         1                            1   \n",
      "297             5                   4         1                            2   \n",
      "298             5                   3         1                            3   \n",
      "302             5                   4         1                            3   \n",
      "304             5                   2         1                            3   \n",
      "307             5                   2         4                            1   \n",
      "310             5                   2         1                            3   \n",
      "312             5                   2         4                            1   \n",
      "316             5                   1         1                            4   \n",
      "329             5                   2         1                            3   \n",
      "341             5                   3         1                            4   \n",
      "342             5                   2         1                            1   \n",
      "388             5                   1         4                            3   \n",
      "475             5                   4         1                            3   \n",
      "483             5                   3         4                            3   \n",
      "492             5                   4         4                            4   \n",
      "505             5                   3         1                            3   \n",
      "571             5                   2         1                            2   \n",
      "589             5                   1         1                            2   \n",
      "600             5                   4         4                            3   \n",
      "642             5                   2         1                            4   \n",
      "681             5                   4         1                            4   \n",
      "703             5                   2         4                            1   \n",
      "782             5                   3         1                            4   \n",
      "786             5                   1         1                            4   \n",
      "816             5                   3         4                            4   \n",
      "851             5                   2         4                            1   \n",
      "864             5                   3         1                            3   \n",
      "898             5                   2         1                            2   \n",
      "918             5                   3         1                            2   \n",
      "921             5                   3         1                            1   \n",
      "956             5                   4         1                            4   \n",
      "958             5                   4         1                            3   \n",
      "962             5                   3         4                            4   \n",
      "978             5                   3         1                            4   \n",
      "989             5                   1         4                            3   \n",
      "997             5                   2         1                            1   \n",
      "1006            5                   1         4                            4   \n",
      "1036            5                   4         1                            1   \n",
      "1039            5                   3         1                            2   \n",
      "1088            5                   1         1                            3   \n",
      "1094            5                   3         4                            3   \n",
      "1104            5                   1         1                            4   \n",
      "1109            5                   3         1                            4   \n",
      "1156            5                   3         4                            3   \n",
      "1160            5                   2         1                            3   \n",
      "1177            5                   4         4                            1   \n",
      "\n",
      "      EmpWorkLifeBalance  Attrition  \n",
      "3                      2          1  \n",
      "151                    4          1  \n",
      "171                    4          1  \n",
      "175                    3          1  \n",
      "178                    3          4  \n",
      "192                    2          1  \n",
      "230                    4          1  \n",
      "264                    3          1  \n",
      "270                    3          1  \n",
      "278                    3          1  \n",
      "297                    3          1  \n",
      "298                    4          1  \n",
      "302                    4          1  \n",
      "304                    3          1  \n",
      "307                    3          4  \n",
      "310                    3          1  \n",
      "312                    2          1  \n",
      "316                    2          1  \n",
      "329                    3          1  \n",
      "341                    3          1  \n",
      "342                    3          1  \n",
      "388                    3          1  \n",
      "475                    3          1  \n",
      "483                    3          1  \n",
      "492                    2          1  \n",
      "505                    3          1  \n",
      "571                    2          1  \n",
      "589                    3          1  \n",
      "600                    3          1  \n",
      "642                    3          1  \n",
      "681                    3          1  \n",
      "703                    3          1  \n",
      "782                    2          1  \n",
      "786                    2          1  \n",
      "816                    2          1  \n",
      "851                    2          1  \n",
      "864                    3          1  \n",
      "898                    3          1  \n",
      "918                    3          1  \n",
      "921                    3          1  \n",
      "956                    3          1  \n",
      "958                    2          1  \n",
      "962                    4          1  \n",
      "978                    3          1  \n",
      "989                    3          1  \n",
      "997                    2          1  \n",
      "1006                   3          1  \n",
      "1036                   3          1  \n",
      "1039                   3          1  \n",
      "1088                   2          1  \n",
      "1094                   3          1  \n",
      "1104                   1          1  \n",
      "1109                   3          1  \n",
      "1156                   3          1  \n",
      "1160                   3          1  \n",
      "1177                   4          1  \n"
     ]
    }
   ],
   "source": [
    "# Define the names of the competence rating columns.\n",
    "comp_columns = ['EmpEducationLevel', 'EmpEnvironmentSatisfaction', 'EmpHourlyRate', 'EmpJobInvolvement',  'EmpJobLevel', 'EmpJobSatisfaction', 'OverTime', 'EmpRelationshipSatisfaction','EmpWorkLifeBalance','Attrition']\n",
    "\n",
    "# Iterate through these columns to check for anomalies.\n",
    "for column in comp_columns:\n",
    "    if column in df_selected.columns: \n",
    "        outliers = df_selected[~df_selected[column].isin([1, 2, 3, 4])]\n",
    "        if not outliers.empty:\n",
    "            print(f\"Anomalies in column '{column}':\")\n",
    "            print(outliers)"
   ],
   "metadata": {
    "collapsed": false,
    "ExecuteTime": {
     "end_time": "2023-12-09T06:36:48.269746600Z",
     "start_time": "2023-12-09T06:36:48.220560Z"
    }
   },
   "id": "df8cb03f798a24ae"
  },
  {
   "cell_type": "markdown",
   "source": [
    "### Check for Anomalies"
   ],
   "metadata": {
    "collapsed": false
   },
   "id": "e30b7d40e2706fbe"
  },
  {
   "cell_type": "code",
   "execution_count": 82,
   "outputs": [
    {
     "name": "stdout",
     "output_type": "stream",
     "text": [
      "Column EmpEducationLevel has no anomalies\n",
      "Column EmpJobLevel has no anomalies\n"
     ]
    },
    {
     "name": "stderr",
     "output_type": "stream",
     "text": [
      "C:\\Users\\Crane\\AppData\\Local\\Temp\\ipykernel_9728\\2361439922.py:3: SettingWithCopyWarning: \n",
      "A value is trying to be set on a copy of a slice from a DataFrame.\n",
      "Try using .loc[row_indexer,col_indexer] = value instead\n",
      "\n",
      "See the caveats in the documentation: https://pandas.pydata.org/pandas-docs/stable/user_guide/indexing.html#returning-a-view-versus-a-copy\n",
      "  df_selected[column] = df_selected[column].apply(lambda x: max(1, min(x, 4)))\n",
      "C:\\Users\\Crane\\AppData\\Local\\Temp\\ipykernel_9728\\2361439922.py:3: SettingWithCopyWarning: \n",
      "A value is trying to be set on a copy of a slice from a DataFrame.\n",
      "Try using .loc[row_indexer,col_indexer] = value instead\n",
      "\n",
      "See the caveats in the documentation: https://pandas.pydata.org/pandas-docs/stable/user_guide/indexing.html#returning-a-view-versus-a-copy\n",
      "  df_selected[column] = df_selected[column].apply(lambda x: max(1, min(x, 4)))\n"
     ]
    }
   ],
   "source": [
    "columns_to_process = ['EmpEducationLevel' , 'EmpJobLevel']\n",
    "for column in columns_to_process:\n",
    "    df_selected[column] = df_selected[column].apply(lambda x: max(1, min(x, 4)))\n",
    "for column in columns_to_process:\n",
    "    if df_selected[column].min() < 1 or df_selected[column].max() > 4:\n",
    "        print(f\"Column {column} still has anomalies\")\n",
    "    else:\n",
    "        print(f\"Column {column} has no anomalies\")"
   ],
   "metadata": {
    "collapsed": false,
    "ExecuteTime": {
     "end_time": "2023-12-09T06:36:48.279361200Z",
     "start_time": "2023-12-09T06:36:48.239746800Z"
    }
   },
   "id": "c99e766dcce91ec0"
  },
  {
   "cell_type": "markdown",
   "source": [
    "### Normalize data with minor differences."
   ],
   "metadata": {
    "collapsed": false
   },
   "id": "7f6796c9a567beb2"
  },
  {
   "cell_type": "code",
   "execution_count": 83,
   "outputs": [],
   "source": [
    "# Define the names of the competence rating columns.\n",
    "comp_columns = ['EmpEducationLevel', 'EmpEnvironmentSatisfaction', 'EmpHourlyRate', 'EmpJobInvolvement',  'EmpJobLevel', 'EmpJobSatisfaction', 'OverTime', 'EmpRelationshipSatisfaction','EmpWorkLifeBalance','Attrition']\n",
    "\n",
    "# Iterate through these columns to check for anomalies.\n",
    "for column in comp_columns:\n",
    "    outliers = df_selected[~df_selected[column].isin([1, 2, 3, 4])]\n",
    "    if not outliers.empty:\n",
    "        print(f\"Anomalies in column '{column}':\")\n",
    "        print(outliers)"
   ],
   "metadata": {
    "collapsed": false,
    "ExecuteTime": {
     "end_time": "2023-12-09T06:36:48.280484400Z",
     "start_time": "2023-12-09T06:36:48.245850Z"
    }
   },
   "id": "779523c64f597c17"
  },
  {
   "cell_type": "markdown",
   "source": [
    "### No more Anomalies"
   ],
   "metadata": {
    "collapsed": false
   },
   "id": "18b7be795f4877a1"
  },
  {
   "cell_type": "code",
   "execution_count": 84,
   "outputs": [
    {
     "name": "stdout",
     "output_type": "stream",
     "text": [
      "Index(['EmpNumber', 'Age', 'Gender', 'EducationBackground', 'MaritalStatus',\n",
      "       'EmpDepartment', 'BusinessTravelFrequency', 'Education Level',\n",
      "       'Leadership', 'Communication Skills', 'Self-Motivation',\n",
      "       'Problem-Solving Skills', 'Technical Proficiency',\n",
      "       'Emotional Intelligence', 'Creativity', 'Teamwork', 'Decision-Making'],\n",
      "      dtype='object')\n"
     ]
    },
    {
     "name": "stderr",
     "output_type": "stream",
     "text": [
      "C:\\Users\\Crane\\AppData\\Local\\Temp\\ipykernel_9728\\3415931857.py:18: SettingWithCopyWarning: \n",
      "A value is trying to be set on a copy of a slice from a DataFrame\n",
      "\n",
      "See the caveats in the documentation: https://pandas.pydata.org/pandas-docs/stable/user_guide/indexing.html#returning-a-view-versus-a-copy\n",
      "  df_selected.rename(columns=column_mapping, inplace=True)\n"
     ]
    }
   ],
   "source": [
    "# Define a mapping of original column names to new column names.\n",
    "column_mapping = {\n",
    "    'EmpEducationLevel': 'Education Level',\n",
    "    'EmpEnvironmentSatisfaction': 'Leadership',\n",
    "    'EmpHourlyRate': 'Communication Skills',\n",
    "    'EmpJobInvolvement': 'Self-Motivation',\n",
    "    'EmpJobLevel': 'Problem-Solving Skills',\n",
    "    'EmpJobSatisfaction': 'Technical Proficiency',\n",
    "    'OverTime': 'Emotional Intelligence',\n",
    "    'EmpRelationshipSatisfaction': 'Creativity',\n",
    "    'EmpWorkLifeBalance': 'Teamwork',\n",
    "    'Attrition': 'Decision-Making'\n",
    "}\n",
    "\n",
    "# Update the column names in the comp_columns list.\n",
    "comp_columns = [column_mapping[col] if col in column_mapping else col for col in comp_columns]\n",
    "\n",
    "df_selected.rename(columns=column_mapping, inplace=True)\n",
    "\n",
    "print(df_selected.columns)\n",
    "\n"
   ],
   "metadata": {
    "collapsed": false,
    "ExecuteTime": {
     "end_time": "2023-12-09T06:36:48.280484400Z",
     "start_time": "2023-12-09T06:36:48.254662Z"
    }
   },
   "id": "b8440d0f71172f5a"
  },
  {
   "cell_type": "markdown",
   "source": [
    "### Modify the existing competences to match the target competences."
   ],
   "metadata": {
    "collapsed": false
   },
   "id": "ee5c6be9774a862f"
  },
  {
   "cell_type": "code",
   "execution_count": 85,
   "outputs": [
    {
     "name": "stdout",
     "output_type": "stream",
     "text": [
      "['Sales' 'Administration' 'Development' 'Data Science'\n",
      " 'Research & Development']\n"
     ]
    },
    {
     "name": "stderr",
     "output_type": "stream",
     "text": [
      "C:\\Users\\Crane\\AppData\\Local\\Temp\\ipykernel_9728\\3960424435.py:2: SettingWithCopyWarning: \n",
      "A value is trying to be set on a copy of a slice from a DataFrame\n",
      "\n",
      "See the caveats in the documentation: https://pandas.pydata.org/pandas-docs/stable/user_guide/indexing.html#returning-a-view-versus-a-copy\n",
      "  df_selected['EmpDepartment'].replace(['Human Resources', 'Finance'], 'Administration', inplace=True)\n"
     ]
    }
   ],
   "source": [
    "# Replace 'Human Resources' and 'Finance' in the 'EmpDepartment' column with 'Administration'.\n",
    "df_selected['EmpDepartment'].replace(['Human Resources', 'Finance'], 'Administration', inplace=True)\n",
    "\n",
    "print(df_selected['EmpDepartment'].unique())"
   ],
   "metadata": {
    "collapsed": false,
    "ExecuteTime": {
     "end_time": "2023-12-09T06:36:48.280484400Z",
     "start_time": "2023-12-09T06:36:48.261315700Z"
    }
   },
   "id": "76a0da364c868b33"
  },
  {
   "cell_type": "markdown",
   "source": [
    "### Merge 'Human Resources' and 'Finance' departments into 'Administration'."
   ],
   "metadata": {
    "collapsed": false
   },
   "id": "9660847cb389d6ed"
  },
  {
   "cell_type": "markdown",
   "source": [
    "# Feature Engineering\n",
    "By applying different weight ratios for various departments, employees are scored accordingly. This process distinguishes two category labels: 'Suitable' and 'Not Suitable' for the position"
   ],
   "metadata": {
    "collapsed": false
   },
   "id": "358877e7f77f5863"
  },
  {
   "cell_type": "code",
   "execution_count": 86,
   "outputs": [
    {
     "name": "stderr",
     "output_type": "stream",
     "text": [
      "C:\\Users\\Crane\\AppData\\Local\\Temp\\ipykernel_9728\\2417720358.py:25: SettingWithCopyWarning: \n",
      "A value is trying to be set on a copy of a slice from a DataFrame.\n",
      "Try using .loc[row_indexer,col_indexer] = value instead\n",
      "\n",
      "See the caveats in the documentation: https://pandas.pydata.org/pandas-docs/stable/user_guide/indexing.html#returning-a-view-versus-a-copy\n",
      "  df_selected[f'{department}_Score'] = sum(df_selected[comp] * weight for comp, weight in dept_weights.items() if comp in df_selected.columns)\n",
      "C:\\Users\\Crane\\AppData\\Local\\Temp\\ipykernel_9728\\2417720358.py:25: SettingWithCopyWarning: \n",
      "A value is trying to be set on a copy of a slice from a DataFrame.\n",
      "Try using .loc[row_indexer,col_indexer] = value instead\n",
      "\n",
      "See the caveats in the documentation: https://pandas.pydata.org/pandas-docs/stable/user_guide/indexing.html#returning-a-view-versus-a-copy\n",
      "  df_selected[f'{department}_Score'] = sum(df_selected[comp] * weight for comp, weight in dept_weights.items() if comp in df_selected.columns)\n",
      "C:\\Users\\Crane\\AppData\\Local\\Temp\\ipykernel_9728\\2417720358.py:25: SettingWithCopyWarning: \n",
      "A value is trying to be set on a copy of a slice from a DataFrame.\n",
      "Try using .loc[row_indexer,col_indexer] = value instead\n",
      "\n",
      "See the caveats in the documentation: https://pandas.pydata.org/pandas-docs/stable/user_guide/indexing.html#returning-a-view-versus-a-copy\n",
      "  df_selected[f'{department}_Score'] = sum(df_selected[comp] * weight for comp, weight in dept_weights.items() if comp in df_selected.columns)\n",
      "C:\\Users\\Crane\\AppData\\Local\\Temp\\ipykernel_9728\\2417720358.py:25: SettingWithCopyWarning: \n",
      "A value is trying to be set on a copy of a slice from a DataFrame.\n",
      "Try using .loc[row_indexer,col_indexer] = value instead\n",
      "\n",
      "See the caveats in the documentation: https://pandas.pydata.org/pandas-docs/stable/user_guide/indexing.html#returning-a-view-versus-a-copy\n",
      "  df_selected[f'{department}_Score'] = sum(df_selected[comp] * weight for comp, weight in dept_weights.items() if comp in df_selected.columns)\n",
      "C:\\Users\\Crane\\AppData\\Local\\Temp\\ipykernel_9728\\2417720358.py:25: SettingWithCopyWarning: \n",
      "A value is trying to be set on a copy of a slice from a DataFrame.\n",
      "Try using .loc[row_indexer,col_indexer] = value instead\n",
      "\n",
      "See the caveats in the documentation: https://pandas.pydata.org/pandas-docs/stable/user_guide/indexing.html#returning-a-view-versus-a-copy\n",
      "  df_selected[f'{department}_Score'] = sum(df_selected[comp] * weight for comp, weight in dept_weights.items() if comp in df_selected.columns)\n",
      "C:\\Users\\Crane\\AppData\\Local\\Temp\\ipykernel_9728\\2417720358.py:29: SettingWithCopyWarning: \n",
      "A value is trying to be set on a copy of a slice from a DataFrame.\n",
      "Try using .loc[row_indexer,col_indexer] = value instead\n",
      "\n",
      "See the caveats in the documentation: https://pandas.pydata.org/pandas-docs/stable/user_guide/indexing.html#returning-a-view-versus-a-copy\n",
      "  df_selected[f'Suitable_for_{department}'] = df_selected[f'{department}_Score'].apply(lambda x: 'Suit' if x >= threshold else 'NoSuit')\n",
      "C:\\Users\\Crane\\AppData\\Local\\Temp\\ipykernel_9728\\2417720358.py:29: SettingWithCopyWarning: \n",
      "A value is trying to be set on a copy of a slice from a DataFrame.\n",
      "Try using .loc[row_indexer,col_indexer] = value instead\n",
      "\n",
      "See the caveats in the documentation: https://pandas.pydata.org/pandas-docs/stable/user_guide/indexing.html#returning-a-view-versus-a-copy\n",
      "  df_selected[f'Suitable_for_{department}'] = df_selected[f'{department}_Score'].apply(lambda x: 'Suit' if x >= threshold else 'NoSuit')\n",
      "C:\\Users\\Crane\\AppData\\Local\\Temp\\ipykernel_9728\\2417720358.py:29: SettingWithCopyWarning: \n",
      "A value is trying to be set on a copy of a slice from a DataFrame.\n",
      "Try using .loc[row_indexer,col_indexer] = value instead\n",
      "\n",
      "See the caveats in the documentation: https://pandas.pydata.org/pandas-docs/stable/user_guide/indexing.html#returning-a-view-versus-a-copy\n",
      "  df_selected[f'Suitable_for_{department}'] = df_selected[f'{department}_Score'].apply(lambda x: 'Suit' if x >= threshold else 'NoSuit')\n",
      "C:\\Users\\Crane\\AppData\\Local\\Temp\\ipykernel_9728\\2417720358.py:29: SettingWithCopyWarning: \n",
      "A value is trying to be set on a copy of a slice from a DataFrame.\n",
      "Try using .loc[row_indexer,col_indexer] = value instead\n",
      "\n",
      "See the caveats in the documentation: https://pandas.pydata.org/pandas-docs/stable/user_guide/indexing.html#returning-a-view-versus-a-copy\n",
      "  df_selected[f'Suitable_for_{department}'] = df_selected[f'{department}_Score'].apply(lambda x: 'Suit' if x >= threshold else 'NoSuit')\n"
     ]
    }
   ],
   "source": [
    "weights = {\n",
    "    'Administration': {\n",
    "        'Leadership': 0.25, 'Communication Skills': 0.20, 'Emotional Intelligence': 0.20, 'Decision-Making': 0.15, 'Teamwork': 0.10,\n",
    "        'Education Level': 0.05, 'Problem-Solving Skills': 0.05, 'Creativity': 0, 'Technical Proficiency': 0, 'Self-Motivation': 0\n",
    "    },\n",
    "    'Sales': {\n",
    "        'Communication Skills': 0.25, 'Emotional Intelligence': 0.20, 'Self-Motivation': 0.20, 'Creativity': 0.15, 'Teamwork': 0.10,\n",
    "        'Education Level': 0.05, 'Problem-Solving Skills': 0.05, 'Leadership': 0, 'Technical Proficiency': 0, 'Decision-Making': 0\n",
    "    },\n",
    "    'Development': {\n",
    "        'Technical Proficiency': 0.25, 'Problem-Solving Skills': 0.20, 'Creativity': 0.15, 'Teamwork': 0.10, 'Decision-Making': 0.15,\n",
    "        'Education Level': 0.05, 'Emotional Intelligence': 0.05, 'Leadership': 0, 'Communication Skills': 0, 'Self-Motivation': 0.05\n",
    "    },\n",
    "    'Data Science': {\n",
    "        'Technical Proficiency': 0.25, 'Problem-Solving Skills': 0.20, 'Creativity': 0.20, 'Education Level': 0.15, 'Decision-Making': 0.10,\n",
    "        'Teamwork': 0.05, 'Emotional Intelligence': 0.05, 'Leadership': 0, 'Communication Skills': 0, 'Self-Motivation': 0\n",
    "    },\n",
    "    'Research & Development': {\n",
    "        'Technical Proficiency': 0.25, 'Problem-Solving Skills': 0.20, 'Creativity': 0.20, 'Teamwork': 0.15, 'Education Level': 0.10,\n",
    "        'Decision-Making': 0.05, 'Emotional Intelligence': 0.05, 'Leadership': 0, 'Communication Skills': 0, 'Self-Motivation': 0\n",
    "    }\n",
    "}\n",
    "\n",
    "for department, dept_weights in weights.items():\n",
    "    df_selected[f'{department}_Score'] = sum(df_selected[comp] * weight for comp, weight in dept_weights.items() if comp in df_selected.columns)\n",
    "    \n",
    "threshold = 2  \n",
    "for department in weights.keys():\n",
    "    df_selected[f'Suitable_for_{department}'] = df_selected[f'{department}_Score'].apply(lambda x: 'Suit' if x >= threshold else 'NoSuit')\n",
    "\n",
    "df_selected['Suit_Current_Department'] = df_selected.apply(lambda row: row[f'Suitable_for_{row[\"EmpDepartment\"]}'], axis=1)\n",
    "\n",
    "\n"
   ],
   "metadata": {
    "collapsed": false,
    "ExecuteTime": {
     "end_time": "2023-12-09T06:36:48.292505600Z",
     "start_time": "2023-12-09T06:36:48.270816300Z"
    }
   },
   "id": "5f6becaf674df99"
  },
  {
   "cell_type": "markdown",
   "source": [
    "### Weight distribution, output scores for each department.‘Suit’ = 1 、‘Not Suit’ = 0. "
   ],
   "metadata": {
    "collapsed": false
   },
   "id": "c080725fbf9992fb"
  },
  {
   "cell_type": "code",
   "execution_count": 87,
   "outputs": [],
   "source": [
    "df_selected = pd.get_dummies(df_selected, columns=['Gender', 'EducationBackground', 'MaritalStatus', 'EmpDepartment', 'BusinessTravelFrequency'])"
   ],
   "metadata": {
    "collapsed": false,
    "ExecuteTime": {
     "end_time": "2023-12-09T06:36:48.292505600Z",
     "start_time": "2023-12-09T06:36:48.287756100Z"
    }
   },
   "id": "8f443a9622ed02cf"
  },
  {
   "cell_type": "markdown",
   "source": [
    "One-hot encoding creates new binary columns"
   ],
   "metadata": {
    "collapsed": false
   },
   "id": "5c31031d2ebdb0ae"
  },
  {
   "cell_type": "code",
   "execution_count": 88,
   "outputs": [
    {
     "name": "stdout",
     "output_type": "stream",
     "text": [
      "EmpNumber                                     object\n",
      "Age                                            int64\n",
      "Education Level                                int64\n",
      "Leadership                                     int64\n",
      "Communication Skills                           int64\n",
      "Self-Motivation                                int64\n",
      "Problem-Solving Skills                         int64\n",
      "Technical Proficiency                          int64\n",
      "Emotional Intelligence                         int64\n",
      "Creativity                                     int64\n",
      "Teamwork                                       int64\n",
      "Decision-Making                                int64\n",
      "Administration_Score                         float64\n",
      "Sales_Score                                  float64\n",
      "Development_Score                            float64\n",
      "Data Science_Score                           float64\n",
      "Research & Development_Score                 float64\n",
      "Suitable_for_Administration                   object\n",
      "Suitable_for_Sales                            object\n",
      "Suitable_for_Development                      object\n",
      "Suitable_for_Data Science                     object\n",
      "Suitable_for_Research & Development           object\n",
      "Suit_Current_Department                       object\n",
      "Gender_Female                                   bool\n",
      "Gender_Male                                     bool\n",
      "EducationBackground_Human Resources             bool\n",
      "EducationBackground_Life Sciences               bool\n",
      "EducationBackground_Marketing                   bool\n",
      "EducationBackground_Medical                     bool\n",
      "EducationBackground_Other                       bool\n",
      "EducationBackground_Technical Degree            bool\n",
      "MaritalStatus_Divorced                          bool\n",
      "MaritalStatus_Married                           bool\n",
      "MaritalStatus_Single                            bool\n",
      "EmpDepartment_Administration                    bool\n",
      "EmpDepartment_Data Science                      bool\n",
      "EmpDepartment_Development                       bool\n",
      "EmpDepartment_Research & Development            bool\n",
      "EmpDepartment_Sales                             bool\n",
      "BusinessTravelFrequency_Non-Travel              bool\n",
      "BusinessTravelFrequency_Travel_Frequently       bool\n",
      "BusinessTravelFrequency_Travel_Rarely           bool\n",
      "dtype: object\n"
     ]
    }
   ],
   "source": [
    "print(df_selected.dtypes)\n"
   ],
   "metadata": {
    "collapsed": false,
    "ExecuteTime": {
     "end_time": "2023-12-09T06:36:48.304051300Z",
     "start_time": "2023-12-09T06:36:48.293555300Z"
    }
   },
   "id": "246d1d4d8bb0a02"
  },
  {
   "cell_type": "code",
   "execution_count": 89,
   "outputs": [],
   "source": [
    "columns_to_convert = [\n",
    "    'Gender_Female', 'Gender_Male',\n",
    "    'EducationBackground_Human Resources', 'EducationBackground_Life Sciences',\n",
    "    'EducationBackground_Marketing', 'EducationBackground_Medical',\n",
    "    'EducationBackground_Other', 'EducationBackground_Technical Degree',\n",
    "    'MaritalStatus_Divorced', 'MaritalStatus_Married', 'MaritalStatus_Single',\n",
    "    'EmpDepartment_Administration', 'EmpDepartment_Data Science',\n",
    "    'EmpDepartment_Development', 'EmpDepartment_Research & Development',\n",
    "    'EmpDepartment_Sales',\n",
    "    'BusinessTravelFrequency_Non-Travel',\n",
    "    'BusinessTravelFrequency_Travel_Frequently',\n",
    "    'BusinessTravelFrequency_Travel_Rarely'\n",
    "]\n",
    "df_selected[columns_to_convert] = df_selected[columns_to_convert].astype(int)\n"
   ],
   "metadata": {
    "collapsed": false,
    "ExecuteTime": {
     "end_time": "2023-12-09T06:36:48.378317400Z",
     "start_time": "2023-12-09T06:36:48.299493900Z"
    }
   },
   "id": "2a97ea341c1ceb38"
  },
  {
   "cell_type": "markdown",
   "source": [
    "Convert one-hot encoded columns to integer type for machine learning model compatibility."
   ],
   "metadata": {
    "collapsed": false
   },
   "id": "afd4b21b8242a5fd"
  },
  {
   "cell_type": "code",
   "execution_count": 90,
   "outputs": [
    {
     "name": "stdout",
     "output_type": "stream",
     "text": [
      "Gender_Female                                int32\n",
      "Gender_Male                                  int32\n",
      "EducationBackground_Human Resources          int32\n",
      "EducationBackground_Life Sciences            int32\n",
      "EducationBackground_Marketing                int32\n",
      "EducationBackground_Medical                  int32\n",
      "EducationBackground_Other                    int32\n",
      "EducationBackground_Technical Degree         int32\n",
      "MaritalStatus_Divorced                       int32\n",
      "MaritalStatus_Married                        int32\n",
      "MaritalStatus_Single                         int32\n",
      "EmpDepartment_Administration                 int32\n",
      "EmpDepartment_Data Science                   int32\n",
      "EmpDepartment_Development                    int32\n",
      "EmpDepartment_Research & Development         int32\n",
      "EmpDepartment_Sales                          int32\n",
      "BusinessTravelFrequency_Non-Travel           int32\n",
      "BusinessTravelFrequency_Travel_Frequently    int32\n",
      "BusinessTravelFrequency_Travel_Rarely        int32\n",
      "dtype: object\n"
     ]
    }
   ],
   "source": [
    "print(df_selected[columns_to_convert].dtypes)\n"
   ],
   "metadata": {
    "collapsed": false,
    "ExecuteTime": {
     "end_time": "2023-12-09T06:36:48.389791700Z",
     "start_time": "2023-12-09T06:36:48.308334700Z"
    }
   },
   "id": "5321e3843cfd55fe"
  },
  {
   "cell_type": "markdown",
   "source": [],
   "metadata": {
    "collapsed": false
   },
   "id": "94d28cd9c52995c4"
  },
  {
   "cell_type": "code",
   "execution_count": 91,
   "outputs": [],
   "source": [
    "df_selected.drop('EmpNumber', axis=1, inplace=True)"
   ],
   "metadata": {
    "collapsed": false,
    "ExecuteTime": {
     "end_time": "2023-12-09T06:36:48.389791700Z",
     "start_time": "2023-12-09T06:36:48.316676200Z"
    }
   },
   "id": "9b91b4babea77f25"
  },
  {
   "cell_type": "markdown",
   "source": [
    "Remove “EmpNumber”"
   ],
   "metadata": {
    "collapsed": false
   },
   "id": "d4e92afa447ded39"
  },
  {
   "cell_type": "code",
   "execution_count": 92,
   "outputs": [
    {
     "name": "stdout",
     "output_type": "stream",
     "text": [
      "Age                                            int64\n",
      "Education Level                                int64\n",
      "Leadership                                     int64\n",
      "Communication Skills                           int64\n",
      "Self-Motivation                                int64\n",
      "Problem-Solving Skills                         int64\n",
      "Technical Proficiency                          int64\n",
      "Emotional Intelligence                         int64\n",
      "Creativity                                     int64\n",
      "Teamwork                                       int64\n",
      "Decision-Making                                int64\n",
      "Administration_Score                         float64\n",
      "Sales_Score                                  float64\n",
      "Development_Score                            float64\n",
      "Data Science_Score                           float64\n",
      "Research & Development_Score                 float64\n",
      "Suitable_for_Administration                   object\n",
      "Suitable_for_Sales                            object\n",
      "Suitable_for_Development                      object\n",
      "Suitable_for_Data Science                     object\n",
      "Suitable_for_Research & Development           object\n",
      "Suit_Current_Department                       object\n",
      "Gender_Female                                  int32\n",
      "Gender_Male                                    int32\n",
      "EducationBackground_Human Resources            int32\n",
      "EducationBackground_Life Sciences              int32\n",
      "EducationBackground_Marketing                  int32\n",
      "EducationBackground_Medical                    int32\n",
      "EducationBackground_Other                      int32\n",
      "EducationBackground_Technical Degree           int32\n",
      "MaritalStatus_Divorced                         int32\n",
      "MaritalStatus_Married                          int32\n",
      "MaritalStatus_Single                           int32\n",
      "EmpDepartment_Administration                   int32\n",
      "EmpDepartment_Data Science                     int32\n",
      "EmpDepartment_Development                      int32\n",
      "EmpDepartment_Research & Development           int32\n",
      "EmpDepartment_Sales                            int32\n",
      "BusinessTravelFrequency_Non-Travel             int32\n",
      "BusinessTravelFrequency_Travel_Frequently      int32\n",
      "BusinessTravelFrequency_Travel_Rarely          int32\n",
      "dtype: object\n"
     ]
    }
   ],
   "source": [
    "print(df_selected.dtypes)"
   ],
   "metadata": {
    "collapsed": false,
    "ExecuteTime": {
     "end_time": "2023-12-09T06:36:48.389791700Z",
     "start_time": "2023-12-09T06:36:48.324435300Z"
    }
   },
   "id": "4ced2499a52c3881"
  },
  {
   "cell_type": "markdown",
   "source": [
    "Check the types"
   ],
   "metadata": {
    "collapsed": false
   },
   "id": "e4505b9631ce493e"
  },
  {
   "cell_type": "code",
   "execution_count": 75,
   "outputs": [],
   "source": [
    "# Output the modified DataFrame to an Excel file.\n",
    "df_selected.to_excel('modified_data.xlsx', index=False)"
   ],
   "metadata": {
    "collapsed": false,
    "ExecuteTime": {
     "end_time": "2023-12-09T06:34:19.258251300Z",
     "start_time": "2023-12-09T06:34:18.974306700Z"
    }
   },
   "id": "c369ccfaae8e52f8"
  },
  {
   "cell_type": "markdown",
   "source": [
    "### Print the prototype of the data.\n"
   ],
   "metadata": {
    "collapsed": false
   },
   "id": "7445d758f999a2c2"
  },
  {
   "cell_type": "code",
   "execution_count": 94,
   "outputs": [],
   "source": [
    "suit_mapping = {'Suit': 1, 'NoSuit': 0}\n",
    "\n",
    "columns_to_convert = [\n",
    "    'Suitable_for_Administration', \n",
    "    'Suitable_for_Sales', \n",
    "    'Suitable_for_Development', \n",
    "    'Suitable_for_Data Science', \n",
    "    'Suitable_for_Research & Development', \n",
    "    'Suit_Current_Department'\n",
    "]\n",
    "\n",
    "for col in columns_to_convert:\n",
    "    df_selected[col] = df_selected[col].replace(suit_mapping)\n"
   ],
   "metadata": {
    "collapsed": false,
    "ExecuteTime": {
     "end_time": "2023-12-09T06:39:17.338597Z",
     "start_time": "2023-12-09T06:39:17.332933700Z"
    }
   },
   "id": "376ac197a77d9d0c"
  },
  {
   "cell_type": "code",
   "execution_count": 95,
   "outputs": [
    {
     "name": "stdout",
     "output_type": "stream",
     "text": [
      "Age                                            int64\n",
      "Education Level                                int64\n",
      "Leadership                                     int64\n",
      "Communication Skills                           int64\n",
      "Self-Motivation                                int64\n",
      "Problem-Solving Skills                         int64\n",
      "Technical Proficiency                          int64\n",
      "Emotional Intelligence                         int64\n",
      "Creativity                                     int64\n",
      "Teamwork                                       int64\n",
      "Decision-Making                                int64\n",
      "Administration_Score                         float64\n",
      "Sales_Score                                  float64\n",
      "Development_Score                            float64\n",
      "Data Science_Score                           float64\n",
      "Research & Development_Score                 float64\n",
      "Suitable_for_Administration                    int64\n",
      "Suitable_for_Sales                             int64\n",
      "Suitable_for_Development                       int64\n",
      "Suitable_for_Data Science                      int64\n",
      "Suitable_for_Research & Development            int64\n",
      "Suit_Current_Department                        int64\n",
      "Gender_Female                                  int32\n",
      "Gender_Male                                    int32\n",
      "EducationBackground_Human Resources            int32\n",
      "EducationBackground_Life Sciences              int32\n",
      "EducationBackground_Marketing                  int32\n",
      "EducationBackground_Medical                    int32\n",
      "EducationBackground_Other                      int32\n",
      "EducationBackground_Technical Degree           int32\n",
      "MaritalStatus_Divorced                         int32\n",
      "MaritalStatus_Married                          int32\n",
      "MaritalStatus_Single                           int32\n",
      "EmpDepartment_Administration                   int32\n",
      "EmpDepartment_Data Science                     int32\n",
      "EmpDepartment_Development                      int32\n",
      "EmpDepartment_Research & Development           int32\n",
      "EmpDepartment_Sales                            int32\n",
      "BusinessTravelFrequency_Non-Travel             int32\n",
      "BusinessTravelFrequency_Travel_Frequently      int32\n",
      "BusinessTravelFrequency_Travel_Rarely          int32\n",
      "dtype: object\n"
     ]
    }
   ],
   "source": [
    "print(df_selected.dtypes)"
   ],
   "metadata": {
    "collapsed": false,
    "ExecuteTime": {
     "end_time": "2023-12-09T06:39:22.221982300Z",
     "start_time": "2023-12-09T06:39:22.205107300Z"
    }
   },
   "id": "2e0c1e1e47f1961f"
  },
  {
   "cell_type": "markdown",
   "source": [
    "By encoding, a dataset consisting solely of numerical values is achieved, meeting the requirements of a machine learning dataset"
   ],
   "metadata": {
    "collapsed": false
   },
   "id": "b8aed768e907d719"
  },
  {
   "cell_type": "code",
   "execution_count": 96,
   "outputs": [],
   "source": [
    "from sklearn.model_selection import train_test_split\n",
    "\n",
    "X = df_selected.drop('Suit_Current_Department', axis=1)  # Features\n",
    "y = df_selected['Suit_Current_Department']               # Labels\n",
    "\n",
    "X_train, X_test, y_train, y_test = train_test_split(X, y, test_size=0.3, random_state=42)\n"
   ],
   "metadata": {
    "collapsed": false,
    "ExecuteTime": {
     "end_time": "2023-12-09T06:39:30.605457700Z",
     "start_time": "2023-12-09T06:39:30.584202100Z"
    }
   },
   "id": "ddb1e042892c31c0"
  },
  {
   "cell_type": "markdown",
   "source": [
    "### Split the dataset into training and test sets"
   ],
   "metadata": {
    "collapsed": false
   },
   "id": "f83ae1242f61bbc0"
  },
  {
   "cell_type": "code",
   "execution_count": 97,
   "outputs": [
    {
     "name": "stdout",
     "output_type": "stream",
     "text": [
      "Age                                            int64\n",
      "Education Level                                int64\n",
      "Leadership                                     int64\n",
      "Communication Skills                           int64\n",
      "Self-Motivation                                int64\n",
      "Problem-Solving Skills                         int64\n",
      "Technical Proficiency                          int64\n",
      "Emotional Intelligence                         int64\n",
      "Creativity                                     int64\n",
      "Teamwork                                       int64\n",
      "Decision-Making                                int64\n",
      "Administration_Score                         float64\n",
      "Sales_Score                                  float64\n",
      "Development_Score                            float64\n",
      "Data Science_Score                           float64\n",
      "Research & Development_Score                 float64\n",
      "Suitable_for_Administration                    int64\n",
      "Suitable_for_Sales                             int64\n",
      "Suitable_for_Development                       int64\n",
      "Suitable_for_Data Science                      int64\n",
      "Suitable_for_Research & Development            int64\n",
      "Gender_Female                                  int32\n",
      "Gender_Male                                    int32\n",
      "EducationBackground_Human Resources            int32\n",
      "EducationBackground_Life Sciences              int32\n",
      "EducationBackground_Marketing                  int32\n",
      "EducationBackground_Medical                    int32\n",
      "EducationBackground_Other                      int32\n",
      "EducationBackground_Technical Degree           int32\n",
      "MaritalStatus_Divorced                         int32\n",
      "MaritalStatus_Married                          int32\n",
      "MaritalStatus_Single                           int32\n",
      "EmpDepartment_Administration                   int32\n",
      "EmpDepartment_Data Science                     int32\n",
      "EmpDepartment_Development                      int32\n",
      "EmpDepartment_Research & Development           int32\n",
      "EmpDepartment_Sales                            int32\n",
      "BusinessTravelFrequency_Non-Travel             int32\n",
      "BusinessTravelFrequency_Travel_Frequently      int32\n",
      "BusinessTravelFrequency_Travel_Rarely          int32\n",
      "dtype: object\n"
     ]
    }
   ],
   "source": [
    "print(X_train.dtypes)\n"
   ],
   "metadata": {
    "collapsed": false,
    "ExecuteTime": {
     "end_time": "2023-12-09T06:39:34.110574700Z",
     "start_time": "2023-12-09T06:39:34.093119100Z"
    }
   },
   "id": "fa640c1b75608b60"
  },
  {
   "cell_type": "markdown",
   "source": [
    "### Since the \"EmpNumber\" column is displayed as an \"object\" type and does not significantly impact the data, it can therefore be removed"
   ],
   "metadata": {
    "collapsed": false
   },
   "id": "91ebf54a5c30e158"
  },
  {
   "cell_type": "markdown",
   "source": [
    "# Machine Learning Model Testing\n",
    "## 1.Random Forest Classifier"
   ],
   "metadata": {
    "collapsed": false
   },
   "id": "80740e59979ffffc"
  },
  {
   "cell_type": "code",
   "execution_count": 98,
   "outputs": [
    {
     "name": "stdout",
     "output_type": "stream",
     "text": [
      "0.9861111111111112\n",
      "              precision    recall  f1-score   support\n",
      "\n",
      "           0       0.90      0.97      0.93        36\n",
      "           1       1.00      0.99      0.99       324\n",
      "\n",
      "    accuracy                           0.99       360\n",
      "   macro avg       0.95      0.98      0.96       360\n",
      "weighted avg       0.99      0.99      0.99       360\n"
     ]
    }
   ],
   "source": [
    "from sklearn.ensemble import RandomForestClassifier\n",
    "\n",
    "model = RandomForestClassifier()\n",
    "model.fit(X_train, y_train)\n",
    "\n",
    "from sklearn.metrics import accuracy_score, classification_report\n",
    "\n",
    "y_pred = model.predict(X_test)\n",
    "print(accuracy_score(y_test, y_pred))\n",
    "print(classification_report(y_test, y_pred))\n"
   ],
   "metadata": {
    "collapsed": false,
    "ExecuteTime": {
     "end_time": "2023-12-09T06:39:41.333715600Z",
     "start_time": "2023-12-09T06:39:41.215781200Z"
    }
   },
   "id": "d4daa77445d25ba0"
  },
  {
   "cell_type": "markdown",
   "source": [
    "### This model performs exceptionally well in predicting category 1, with both high precision and recall.\n",
    "### The prediction for category 0 is also quite accurate, though slightly lower compared to category 1.\n",
    "### The overall accuracy is very high, indicating that the model makes correct predictions for the majority of samples."
   ],
   "metadata": {
    "collapsed": false
   },
   "id": "54483230d7c4b5a5"
  },
  {
   "cell_type": "markdown",
   "source": [
    "## 2.Support Vector Machine, SVM"
   ],
   "metadata": {
    "collapsed": false
   },
   "id": "9037fc568a991c05"
  },
  {
   "cell_type": "code",
   "execution_count": 99,
   "outputs": [
    {
     "name": "stdout",
     "output_type": "stream",
     "text": [
      "0.9\n",
      "              precision    recall  f1-score   support\n",
      "\n",
      "           0       0.00      0.00      0.00        36\n",
      "           1       0.90      1.00      0.95       324\n",
      "\n",
      "    accuracy                           0.90       360\n",
      "   macro avg       0.45      0.50      0.47       360\n",
      "weighted avg       0.81      0.90      0.85       360\n"
     ]
    },
    {
     "name": "stderr",
     "output_type": "stream",
     "text": [
      "D:\\Software\\Anaconda\\Lib\\site-packages\\sklearn\\metrics\\_classification.py:1469: UndefinedMetricWarning: Precision and F-score are ill-defined and being set to 0.0 in labels with no predicted samples. Use `zero_division` parameter to control this behavior.\n",
      "  _warn_prf(average, modifier, msg_start, len(result))\n",
      "D:\\Software\\Anaconda\\Lib\\site-packages\\sklearn\\metrics\\_classification.py:1469: UndefinedMetricWarning: Precision and F-score are ill-defined and being set to 0.0 in labels with no predicted samples. Use `zero_division` parameter to control this behavior.\n",
      "  _warn_prf(average, modifier, msg_start, len(result))\n",
      "D:\\Software\\Anaconda\\Lib\\site-packages\\sklearn\\metrics\\_classification.py:1469: UndefinedMetricWarning: Precision and F-score are ill-defined and being set to 0.0 in labels with no predicted samples. Use `zero_division` parameter to control this behavior.\n",
      "  _warn_prf(average, modifier, msg_start, len(result))\n"
     ]
    }
   ],
   "source": [
    "from sklearn.svm import SVC\n",
    "\n",
    "model = SVC()\n",
    "model.fit(X_train, y_train)\n",
    "y_pred = model.predict(X_test)\n",
    "\n",
    "print(accuracy_score(y_test, y_pred))\n",
    "print(classification_report(y_test, y_pred))\n"
   ],
   "metadata": {
    "collapsed": false,
    "ExecuteTime": {
     "end_time": "2023-12-09T06:46:11.991581500Z",
     "start_time": "2023-12-09T06:46:11.963194300Z"
    }
   },
   "id": "298010d2590c622"
  },
  {
   "cell_type": "markdown",
   "source": [
    "#### for this dataset, using SVM might encounter issues such as data imbalance or parameter mismatch"
   ],
   "metadata": {
    "collapsed": false
   },
   "id": "4f55e6a44c2eee4e"
  },
  {
   "cell_type": "markdown",
   "source": [
    "## 3.Decision Tree"
   ],
   "metadata": {
    "collapsed": false
   },
   "id": "24a4c0d52367121d"
  },
  {
   "cell_type": "code",
   "execution_count": 100,
   "outputs": [
    {
     "name": "stdout",
     "output_type": "stream",
     "text": [
      "0.975\n",
      "              precision    recall  f1-score   support\n",
      "\n",
      "           0       0.91      0.83      0.87        36\n",
      "           1       0.98      0.99      0.99       324\n",
      "\n",
      "    accuracy                           0.97       360\n",
      "   macro avg       0.95      0.91      0.93       360\n",
      "weighted avg       0.97      0.97      0.97       360\n"
     ]
    }
   ],
   "source": [
    "from sklearn.tree import DecisionTreeClassifier\n",
    "\n",
    "model = DecisionTreeClassifier()\n",
    "model.fit(X_train, y_train)\n",
    "y_pred = model.predict(X_test)\n",
    "\n",
    "print(accuracy_score(y_test, y_pred))\n",
    "print(classification_report(y_test, y_pred))\n"
   ],
   "metadata": {
    "collapsed": false,
    "ExecuteTime": {
     "end_time": "2023-12-09T06:48:16.925850900Z",
     "start_time": "2023-12-09T06:48:16.917491300Z"
    }
   },
   "id": "9590db96ca336b8b"
  },
  {
   "cell_type": "markdown",
   "source": [
    "## 4.Logistic Regression"
   ],
   "metadata": {
    "collapsed": false
   },
   "id": "adcbf9d22b11b7f4"
  },
  {
   "cell_type": "code",
   "execution_count": 101,
   "outputs": [
    {
     "name": "stdout",
     "output_type": "stream",
     "text": [
      "0.95\n",
      "              precision    recall  f1-score   support\n",
      "\n",
      "           0       0.75      0.75      0.75        36\n",
      "           1       0.97      0.97      0.97       324\n",
      "\n",
      "    accuracy                           0.95       360\n",
      "   macro avg       0.86      0.86      0.86       360\n",
      "weighted avg       0.95      0.95      0.95       360\n"
     ]
    },
    {
     "name": "stderr",
     "output_type": "stream",
     "text": [
      "D:\\Software\\Anaconda\\Lib\\site-packages\\sklearn\\linear_model\\_logistic.py:460: ConvergenceWarning: lbfgs failed to converge (status=1):\n",
      "STOP: TOTAL NO. of ITERATIONS REACHED LIMIT.\n",
      "\n",
      "Increase the number of iterations (max_iter) or scale the data as shown in:\n",
      "    https://scikit-learn.org/stable/modules/preprocessing.html\n",
      "Please also refer to the documentation for alternative solver options:\n",
      "    https://scikit-learn.org/stable/modules/linear_model.html#logistic-regression\n",
      "  n_iter_i = _check_optimize_result(\n"
     ]
    }
   ],
   "source": [
    "from sklearn.linear_model import LogisticRegression\n",
    "\n",
    "model = LogisticRegression()\n",
    "model.fit(X_train, y_train)\n",
    "y_pred = model.predict(X_test)\n",
    "\n",
    "print(accuracy_score(y_test, y_pred))\n",
    "print(classification_report(y_test, y_pred))\n"
   ],
   "metadata": {
    "collapsed": false,
    "ExecuteTime": {
     "end_time": "2023-12-09T06:48:53.410626100Z",
     "start_time": "2023-12-09T06:48:52.928676100Z"
    }
   },
   "id": "7db8da7ce53a2f08"
  },
  {
   "cell_type": "markdown",
   "source": [
    "#### It is a ConvergenceWarning indicating that the logistic regression model did not converge during training"
   ],
   "metadata": {
    "collapsed": false
   },
   "id": "a4004774ed26a053"
  },
  {
   "cell_type": "markdown",
   "source": [
    "## 5.K-Nearest Neighbors, KNN"
   ],
   "metadata": {
    "collapsed": false
   },
   "id": "b661ded703b90d5a"
  },
  {
   "cell_type": "code",
   "execution_count": 102,
   "outputs": [
    {
     "ename": "AttributeError",
     "evalue": "'Flags' object has no attribute 'c_contiguous'",
     "output_type": "error",
     "traceback": [
      "\u001B[1;31m---------------------------------------------------------------------------\u001B[0m",
      "\u001B[1;31mAttributeError\u001B[0m                            Traceback (most recent call last)",
      "Cell \u001B[1;32mIn[102], line 5\u001B[0m\n\u001B[0;32m      3\u001B[0m model \u001B[38;5;241m=\u001B[39m KNeighborsClassifier()\n\u001B[0;32m      4\u001B[0m model\u001B[38;5;241m.\u001B[39mfit(X_train, y_train)\n\u001B[1;32m----> 5\u001B[0m y_pred \u001B[38;5;241m=\u001B[39m model\u001B[38;5;241m.\u001B[39mpredict(X_test)\n\u001B[0;32m      7\u001B[0m \u001B[38;5;28mprint\u001B[39m(accuracy_score(y_test, y_pred))\n\u001B[0;32m      8\u001B[0m \u001B[38;5;28mprint\u001B[39m(classification_report(y_test, y_pred))\n",
      "File \u001B[1;32mD:\\Software\\Anaconda\\Lib\\site-packages\\sklearn\\neighbors\\_classification.py:246\u001B[0m, in \u001B[0;36mKNeighborsClassifier.predict\u001B[1;34m(self, X)\u001B[0m\n\u001B[0;32m    244\u001B[0m check_is_fitted(\u001B[38;5;28mself\u001B[39m, \u001B[38;5;124m\"\u001B[39m\u001B[38;5;124m_fit_method\u001B[39m\u001B[38;5;124m\"\u001B[39m)\n\u001B[0;32m    245\u001B[0m \u001B[38;5;28;01mif\u001B[39;00m \u001B[38;5;28mself\u001B[39m\u001B[38;5;241m.\u001B[39mweights \u001B[38;5;241m==\u001B[39m \u001B[38;5;124m\"\u001B[39m\u001B[38;5;124muniform\u001B[39m\u001B[38;5;124m\"\u001B[39m:\n\u001B[1;32m--> 246\u001B[0m     \u001B[38;5;28;01mif\u001B[39;00m \u001B[38;5;28mself\u001B[39m\u001B[38;5;241m.\u001B[39m_fit_method \u001B[38;5;241m==\u001B[39m \u001B[38;5;124m\"\u001B[39m\u001B[38;5;124mbrute\u001B[39m\u001B[38;5;124m\"\u001B[39m \u001B[38;5;129;01mand\u001B[39;00m ArgKminClassMode\u001B[38;5;241m.\u001B[39mis_usable_for(\n\u001B[0;32m    247\u001B[0m         X, \u001B[38;5;28mself\u001B[39m\u001B[38;5;241m.\u001B[39m_fit_X, \u001B[38;5;28mself\u001B[39m\u001B[38;5;241m.\u001B[39mmetric\n\u001B[0;32m    248\u001B[0m     ):\n\u001B[0;32m    249\u001B[0m         probabilities \u001B[38;5;241m=\u001B[39m \u001B[38;5;28mself\u001B[39m\u001B[38;5;241m.\u001B[39mpredict_proba(X)\n\u001B[0;32m    250\u001B[0m         \u001B[38;5;28;01mif\u001B[39;00m \u001B[38;5;28mself\u001B[39m\u001B[38;5;241m.\u001B[39moutputs_2d_:\n",
      "File \u001B[1;32mD:\\Software\\Anaconda\\Lib\\site-packages\\sklearn\\metrics\\_pairwise_distances_reduction\\_dispatcher.py:471\u001B[0m, in \u001B[0;36mArgKminClassMode.is_usable_for\u001B[1;34m(cls, X, Y, metric)\u001B[0m\n\u001B[0;32m    448\u001B[0m \u001B[38;5;129m@classmethod\u001B[39m\n\u001B[0;32m    449\u001B[0m \u001B[38;5;28;01mdef\u001B[39;00m \u001B[38;5;21mis_usable_for\u001B[39m(\u001B[38;5;28mcls\u001B[39m, X, Y, metric) \u001B[38;5;241m-\u001B[39m\u001B[38;5;241m>\u001B[39m \u001B[38;5;28mbool\u001B[39m:\n\u001B[0;32m    450\u001B[0m \u001B[38;5;250m    \u001B[39m\u001B[38;5;124;03m\"\"\"Return True if the dispatcher can be used for the given parameters.\u001B[39;00m\n\u001B[0;32m    451\u001B[0m \n\u001B[0;32m    452\u001B[0m \u001B[38;5;124;03m    Parameters\u001B[39;00m\n\u001B[1;32m   (...)\u001B[0m\n\u001B[0;32m    468\u001B[0m \u001B[38;5;124;03m    True if the PairwiseDistancesReduction can be used, else False.\u001B[39;00m\n\u001B[0;32m    469\u001B[0m \u001B[38;5;124;03m    \"\"\"\u001B[39;00m\n\u001B[0;32m    470\u001B[0m     \u001B[38;5;28;01mreturn\u001B[39;00m (\n\u001B[1;32m--> 471\u001B[0m         ArgKmin\u001B[38;5;241m.\u001B[39mis_usable_for(X, Y, metric)\n\u001B[0;32m    472\u001B[0m         \u001B[38;5;66;03m# TODO: Support CSR matrices.\u001B[39;00m\n\u001B[0;32m    473\u001B[0m         \u001B[38;5;129;01mand\u001B[39;00m \u001B[38;5;129;01mnot\u001B[39;00m issparse(X)\n\u001B[0;32m    474\u001B[0m         \u001B[38;5;129;01mand\u001B[39;00m \u001B[38;5;129;01mnot\u001B[39;00m issparse(Y)\n\u001B[0;32m    475\u001B[0m         \u001B[38;5;66;03m# TODO: implement Euclidean specialization with GEMM.\u001B[39;00m\n\u001B[0;32m    476\u001B[0m         \u001B[38;5;129;01mand\u001B[39;00m metric \u001B[38;5;129;01mnot\u001B[39;00m \u001B[38;5;129;01min\u001B[39;00m (\u001B[38;5;124m\"\u001B[39m\u001B[38;5;124meuclidean\u001B[39m\u001B[38;5;124m\"\u001B[39m, \u001B[38;5;124m\"\u001B[39m\u001B[38;5;124msqeuclidean\u001B[39m\u001B[38;5;124m\"\u001B[39m)\n\u001B[0;32m    477\u001B[0m     )\n",
      "File \u001B[1;32mD:\\Software\\Anaconda\\Lib\\site-packages\\sklearn\\metrics\\_pairwise_distances_reduction\\_dispatcher.py:115\u001B[0m, in \u001B[0;36mBaseDistancesReductionDispatcher.is_usable_for\u001B[1;34m(cls, X, Y, metric)\u001B[0m\n\u001B[0;32m    101\u001B[0m \u001B[38;5;28;01mdef\u001B[39;00m \u001B[38;5;21mis_valid_sparse_matrix\u001B[39m(X):\n\u001B[0;32m    102\u001B[0m     \u001B[38;5;28;01mreturn\u001B[39;00m (\n\u001B[0;32m    103\u001B[0m         isspmatrix_csr(X)\n\u001B[0;32m    104\u001B[0m         \u001B[38;5;129;01mand\u001B[39;00m\n\u001B[1;32m   (...)\u001B[0m\n\u001B[0;32m    110\u001B[0m         X\u001B[38;5;241m.\u001B[39mindices\u001B[38;5;241m.\u001B[39mdtype \u001B[38;5;241m==\u001B[39m X\u001B[38;5;241m.\u001B[39mindptr\u001B[38;5;241m.\u001B[39mdtype \u001B[38;5;241m==\u001B[39m np\u001B[38;5;241m.\u001B[39mint32\n\u001B[0;32m    111\u001B[0m     )\n\u001B[0;32m    113\u001B[0m is_usable \u001B[38;5;241m=\u001B[39m (\n\u001B[0;32m    114\u001B[0m     get_config()\u001B[38;5;241m.\u001B[39mget(\u001B[38;5;124m\"\u001B[39m\u001B[38;5;124menable_cython_pairwise_dist\u001B[39m\u001B[38;5;124m\"\u001B[39m, \u001B[38;5;28;01mTrue\u001B[39;00m)\n\u001B[1;32m--> 115\u001B[0m     \u001B[38;5;129;01mand\u001B[39;00m (is_numpy_c_ordered(X) \u001B[38;5;129;01mor\u001B[39;00m is_valid_sparse_matrix(X))\n\u001B[0;32m    116\u001B[0m     \u001B[38;5;129;01mand\u001B[39;00m (is_numpy_c_ordered(Y) \u001B[38;5;129;01mor\u001B[39;00m is_valid_sparse_matrix(Y))\n\u001B[0;32m    117\u001B[0m     \u001B[38;5;129;01mand\u001B[39;00m X\u001B[38;5;241m.\u001B[39mdtype \u001B[38;5;241m==\u001B[39m Y\u001B[38;5;241m.\u001B[39mdtype\n\u001B[0;32m    118\u001B[0m     \u001B[38;5;129;01mand\u001B[39;00m X\u001B[38;5;241m.\u001B[39mdtype \u001B[38;5;129;01min\u001B[39;00m (np\u001B[38;5;241m.\u001B[39mfloat32, np\u001B[38;5;241m.\u001B[39mfloat64)\n\u001B[0;32m    119\u001B[0m     \u001B[38;5;129;01mand\u001B[39;00m metric \u001B[38;5;129;01min\u001B[39;00m \u001B[38;5;28mcls\u001B[39m\u001B[38;5;241m.\u001B[39mvalid_metrics()\n\u001B[0;32m    120\u001B[0m )\n\u001B[0;32m    122\u001B[0m \u001B[38;5;28;01mreturn\u001B[39;00m is_usable\n",
      "File \u001B[1;32mD:\\Software\\Anaconda\\Lib\\site-packages\\sklearn\\metrics\\_pairwise_distances_reduction\\_dispatcher.py:99\u001B[0m, in \u001B[0;36mBaseDistancesReductionDispatcher.is_usable_for.<locals>.is_numpy_c_ordered\u001B[1;34m(X)\u001B[0m\n\u001B[0;32m     98\u001B[0m \u001B[38;5;28;01mdef\u001B[39;00m \u001B[38;5;21mis_numpy_c_ordered\u001B[39m(X):\n\u001B[1;32m---> 99\u001B[0m     \u001B[38;5;28;01mreturn\u001B[39;00m \u001B[38;5;28mhasattr\u001B[39m(X, \u001B[38;5;124m\"\u001B[39m\u001B[38;5;124mflags\u001B[39m\u001B[38;5;124m\"\u001B[39m) \u001B[38;5;129;01mand\u001B[39;00m X\u001B[38;5;241m.\u001B[39mflags\u001B[38;5;241m.\u001B[39mc_contiguous\n",
      "\u001B[1;31mAttributeError\u001B[0m: 'Flags' object has no attribute 'c_contiguous'"
     ]
    }
   ],
   "source": [
    "from sklearn.neighbors import KNeighborsClassifier\n",
    "\n",
    "model = KNeighborsClassifier()\n",
    "model.fit(X_train, y_train)\n",
    "y_pred = model.predict(X_test)\n",
    "\n",
    "print(accuracy_score(y_test, y_pred))\n",
    "print(classification_report(y_test, y_pred))\n"
   ],
   "metadata": {
    "collapsed": false,
    "ExecuteTime": {
     "end_time": "2023-12-09T06:49:42.915989200Z",
     "start_time": "2023-12-09T06:49:42.842109800Z"
    }
   },
   "id": "3ecb138723fa0a1"
  },
  {
   "cell_type": "markdown",
   "source": [
    "#### The data type is not suitable for KNN"
   ],
   "metadata": {
    "collapsed": false
   },
   "id": "d9d7d51c9cc79993"
  },
  {
   "cell_type": "markdown",
   "source": [
    "## conclusion\n",
    "### Model Testing and Evaluation:\n",
    "\n",
    "I have tested several popular machine learning models, including Support Vector Machine (SVM), Logistic Regression, Decision Tree, K-Nearest Neighbors (KNN), and Random Forest Classifier (RFC).\n",
    "During the testing process, I found that models like SVM, Logistic Regression, and KNN encountered errors or warnings in some cases, which might be due to data imbalance, mismatch in model parameters, or the nature of the algorithms themselves.\n",
    "### Performance of Random Forest Classifier and Decision Tree:\n",
    "\n",
    "The Random Forest Classifier (RFC) and Decision Tree (DT) performed well in my tests, with no significant errors or issues.\n",
    "The accuracy of RFC was about 98.61%, while DT achieved an accuracy of 97.5%, both demonstrating high predictive accuracy.\n",
    "### Future Research Direction:\n",
    "\n",
    "Based on the current test results and the performance of the models, I plan to continue using Random Forest Classifier and Decision Tree in my future research.\n",
    "Both models not only offer high accuracy but are also relatively easy to handle with large datasets and have lower requirements for data preprocessing.\n",
    "### Next Steps:\n",
    "\n",
    "In future work, I might further fine-tune and optimize the parameters of these two models to enhance their performance.\n",
    "Additionally, exploring more techniques in feature engineering and model tuning could help improve the models' accuracy and interpretability.\n"
   ],
   "metadata": {
    "collapsed": false
   },
   "id": "912ecd620646827c"
  },
  {
   "cell_type": "markdown",
   "source": [],
   "metadata": {
    "collapsed": false
   },
   "id": "1ceab6cc60a3636"
  }
 ],
 "metadata": {
  "kernelspec": {
   "display_name": "Python 3",
   "language": "python",
   "name": "python3"
  },
  "language_info": {
   "codemirror_mode": {
    "name": "ipython",
    "version": 2
   },
   "file_extension": ".py",
   "mimetype": "text/x-python",
   "name": "python",
   "nbconvert_exporter": "python",
   "pygments_lexer": "ipython2",
   "version": "2.7.6"
  }
 },
 "nbformat": 4,
 "nbformat_minor": 5
}
